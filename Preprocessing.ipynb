{
 "cells": [
  {
   "cell_type": "markdown",
   "metadata": {},
   "source": [
    "# 01-Preprocessing"
   ]
  },
  {
   "cell_type": "markdown",
   "metadata": {},
   "source": [
    "The first NLP exercise is about preprocessing.\n",
    "\n",
    "You will practice preprocessing using NLTK on raw data. \n",
    "This is the first step in most of the NLP projects, so you have to master it."
   ]
  },
  {
   "cell_type": "markdown",
   "metadata": {},
   "source": [
    "We will play with the *coldplay.csv* dataset, containing all the songs and lyrics of Coldplay."
   ]
  },
  {
   "cell_type": "markdown",
   "metadata": {},
   "source": [
    "As you know, the first step is to import some libraries. So import *nltk* as well as all the libraries you will need."
   ]
  },
  {
   "cell_type": "code",
   "metadata": {
    "ExecuteTime": {
     "end_time": "2024-06-24T05:30:15.388638Z",
     "start_time": "2024-06-24T05:30:00.720427Z"
    }
   },
   "source": [
    "# Import NLTK and all the needed libraries\n",
    "import nltk\n",
    "import numpy as np\n",
    "import pandas as pd\n",
    "from nltk.tokenize import word_tokenize\n",
    "from nltk.corpus import stopwords\n",
    "from nltk import WordNetLemmatizer, PorterStemmer, pos_tag\n",
    "nltk.download('punkt') #Run this line one time to get the resource\n",
    "nltk.download('stopwords') #Run this line one time to get the resource\n",
    "nltk.download('wordnet') #Run this line one time to get the resource\n",
    "nltk.download('averaged_perceptron_tagger') #Run this line one time to get the resource"
   ],
   "outputs": [
    {
     "name": "stderr",
     "output_type": "stream",
     "text": [
      "[nltk_data] Downloading package punkt to\n",
      "[nltk_data]     C:\\Users\\Hieu\\AppData\\Roaming\\nltk_data...\n",
      "[nltk_data]   Package punkt is already up-to-date!\n",
      "[nltk_data] Downloading package stopwords to\n",
      "[nltk_data]     C:\\Users\\Hieu\\AppData\\Roaming\\nltk_data...\n",
      "[nltk_data]   Package stopwords is already up-to-date!\n",
      "[nltk_data] Downloading package wordnet to\n",
      "[nltk_data]     C:\\Users\\Hieu\\AppData\\Roaming\\nltk_data...\n",
      "[nltk_data] Downloading package averaged_perceptron_tagger to\n",
      "[nltk_data]     C:\\Users\\Hieu\\AppData\\Roaming\\nltk_data...\n",
      "[nltk_data]   Unzipping taggers\\averaged_perceptron_tagger.zip.\n"
     ]
    },
    {
     "data": {
      "text/plain": [
       "True"
      ]
     },
     "execution_count": 1,
     "metadata": {},
     "output_type": "execute_result"
    }
   ],
   "execution_count": 1
  },
  {
   "cell_type": "markdown",
   "metadata": {},
   "source": [
    "Load now the dataset using pandas."
   ]
  },
  {
   "cell_type": "code",
   "metadata": {
    "ExecuteTime": {
     "end_time": "2024-06-24T05:30:15.404393Z",
     "start_time": "2024-06-24T05:30:15.390396Z"
    }
   },
   "source": [
    "# TODO: Load the dataset in coldplay.csv\n",
    "data = pd.read_csv('coldplay.csv')"
   ],
   "outputs": [],
   "execution_count": 2
  },
  {
   "cell_type": "markdown",
   "metadata": {},
   "source": [
    "Now, check the dataset, play with it a bit: what are the columns? How many lines? Is there missing data?..."
   ]
  },
  {
   "cell_type": "code",
   "metadata": {
    "ExecuteTime": {
     "end_time": "2024-06-24T05:30:19.811815Z",
     "start_time": "2024-06-24T05:30:19.798816Z"
    }
   },
   "source": [
    "# TODO: Explore the data\n",
    "print(data.head())"
   ],
   "outputs": [
    {
     "name": "stdout",
     "output_type": "stream",
     "text": [
      "     Artist                           Song  \\\n",
      "0  Coldplay                 Another's Arms   \n",
      "1  Coldplay                Bigger Stronger   \n",
      "2  Coldplay                       Daylight   \n",
      "3  Coldplay                       Everglow   \n",
      "4  Coldplay  Every Teardrop Is A Waterfall   \n",
      "\n",
      "                                                Link  \\\n",
      "0            /c/coldplay/anothers+arms_21079526.html   \n",
      "1          /c/coldplay/bigger+stronger_20032648.html   \n",
      "2                 /c/coldplay/daylight_20032625.html   \n",
      "3                 /c/coldplay/everglow_21104546.html   \n",
      "4  /c/coldplay/every+teardrop+is+a+waterfall_2091...   \n",
      "\n",
      "                                              Lyrics  \n",
      "0  Late night watching tv  \\nUsed to be you here ...  \n",
      "1  I want to be bigger stronger drive a faster ca...  \n",
      "2  To my surprise, and my delight  \\nI saw sunris...  \n",
      "3  Oh, they say people come  \\nThey say people go...  \n",
      "4  I turn the music up, I got my records on  \\nI ...  \n"
     ]
    }
   ],
   "execution_count": 3
  },
  {
   "cell_type": "markdown",
   "metadata": {},
   "source": [
    "Now select the song 'Every Teardrop Is A Waterfall' and save the Lyrics text into a variable. Print the output of this variable."
   ]
  },
  {
   "cell_type": "code",
   "metadata": {
    "ExecuteTime": {
     "end_time": "2024-06-24T05:30:22.274447Z",
     "start_time": "2024-06-24T05:30:22.261436Z"
    }
   },
   "source": [
    "# TODO: Select the song 'Every Teardrop Is A Waterfall'\n",
    "song_lyrics = data[data['Song'] == 'Every Teardrop Is A Waterfall']['Lyrics'].values[0]"
   ],
   "outputs": [],
   "execution_count": 4
  },
  {
   "cell_type": "markdown",
   "metadata": {},
   "source": [
    "As you can see, there is some preprocessing needed here. So let's do it! What is usually the first step?"
   ]
  },
  {
   "cell_type": "markdown",
   "metadata": {},
   "source": [
    "Tokenization, yes. So do tokenization on the lyrics of Every Teardrop Is A Waterfall.\n",
    "\n",
    "So you may have to import the needed library from NLTK if you did not yet.\n",
    "\n",
    "Be careful, the output you have from your pandas dataframe may not have the right type, so manipulate it wisely to get a string."
   ]
  },
  {
   "cell_type": "code",
   "metadata": {
    "ExecuteTime": {
     "end_time": "2024-06-24T05:30:25.804702Z",
     "start_time": "2024-06-24T05:30:25.785323Z"
    }
   },
   "source": [
    "# TODO: Tokenize the lyrics of the song and save the tokens into a variable and print it\n",
    "tokens = word_tokenize(song_lyrics)\n",
    "print(\"Tokenized lyrics:\")\n",
    "print(tokens)"
   ],
   "outputs": [
    {
     "name": "stdout",
     "output_type": "stream",
     "text": [
      "Tokenized lyrics:\n",
      "['I', 'turn', 'the', 'music', 'up', ',', 'I', 'got', 'my', 'records', 'on', 'I', 'shut', 'the', 'world', 'outside', 'until', 'the', 'lights', 'come', 'on', 'Maybe', 'the', 'streets', 'alight', ',', 'maybe', 'the', 'trees', 'are', 'gone', 'I', 'feel', 'my', 'heart', 'start', 'beating', 'to', 'my', 'favourite', 'song', 'And', 'all', 'the', 'kids', 'they', 'dance', ',', 'all', 'the', 'kids', 'all', 'night', 'Until', 'Monday', 'morning', 'feels', 'another', 'life', 'I', 'turn', 'the', 'music', 'up', 'I', \"'m\", 'on', 'a', 'roll', 'this', 'time', 'And', 'heaven', 'is', 'in', 'sight', 'I', 'turn', 'the', 'music', 'up', ',', 'I', 'got', 'my', 'records', 'on', 'From', 'underneath', 'the', 'rubble', 'sing', 'a', 'rebel', 'song', 'Do', \"n't\", 'want', 'to', 'see', 'another', 'generation', 'drop', 'I', \"'d\", 'rather', 'be', 'a', 'comma', 'than', 'a', 'full', 'stop', 'Maybe', 'I', \"'m\", 'in', 'the', 'black', ',', 'maybe', 'I', \"'m\", 'on', 'my', 'knees', 'Maybe', 'I', \"'m\", 'in', 'the', 'gap', 'between', 'the', 'two', 'trapezes', 'But', 'my', 'heart', 'is', 'beating', 'and', 'my', 'pulses', 'start', 'Cathedrals', 'in', 'my', 'heart', 'As', 'we', 'saw', 'oh', 'this', 'light', 'I', 'swear', 'you', ',', 'emerge', 'blinking', 'into', 'To', 'tell', 'me', 'it', \"'s\", 'alright', 'As', 'we', 'soar', 'walls', ',', 'every', 'siren', 'is', 'a', 'symphony', 'And', 'every', 'tear', \"'s\", 'a', 'waterfall', 'Is', 'a', 'waterfall', 'Oh', 'Is', 'a', 'waterfall', 'Oh', 'oh', 'oh', 'Is', 'a', 'is', 'a', 'waterfall', 'Every', 'tear', 'Is', 'a', 'waterfall', 'Oh', 'oh', 'oh', 'So', 'you', 'can', 'hurt', ',', 'hurt', 'me', 'bad', 'But', 'still', 'I', \"'ll\", 'raise', 'the', 'flag', 'Oh', 'It', 'was', 'a', 'wa', 'wa', 'wa', 'wa', 'wa-aterfall', 'A', 'wa', 'wa', 'wa', 'wa', 'wa-aterfall', 'Every', 'tear', 'Every', 'tear', 'Every', 'teardrop', 'is', 'a', 'waterfall', 'Every', 'tear', 'Every', 'tear', 'Every', 'teardrop', 'is', 'a', 'waterfall', 'Every', 'tear', 'Every', 'tear', 'Every', 'teardrop', 'is', 'a', 'waterfall']\n"
     ]
    }
   ],
   "execution_count": 5
  },
  {
   "cell_type": "markdown",
   "metadata": {},
   "source": [
    "It begins to look good. But still, we have the punctuation to remove, so let's do this."
   ]
  },
  {
   "cell_type": "code",
   "metadata": {
    "ExecuteTime": {
     "end_time": "2024-06-24T05:30:28.819024Z",
     "start_time": "2024-06-24T05:30:28.807025Z"
    }
   },
   "source": [
    "# TODO: Remove the punctuation, then save the result into a variable and print it\n",
    "tokens_no_punct = [word.lower() for word in tokens if word.isalpha()]\n",
    "print(\"\\nTokens without punctuation:\")\n",
    "print(tokens_no_punct)"
   ],
   "outputs": [
    {
     "name": "stdout",
     "output_type": "stream",
     "text": [
      "\n",
      "Tokens without punctuation:\n",
      "['i', 'turn', 'the', 'music', 'up', 'i', 'got', 'my', 'records', 'on', 'i', 'shut', 'the', 'world', 'outside', 'until', 'the', 'lights', 'come', 'on', 'maybe', 'the', 'streets', 'alight', 'maybe', 'the', 'trees', 'are', 'gone', 'i', 'feel', 'my', 'heart', 'start', 'beating', 'to', 'my', 'favourite', 'song', 'and', 'all', 'the', 'kids', 'they', 'dance', 'all', 'the', 'kids', 'all', 'night', 'until', 'monday', 'morning', 'feels', 'another', 'life', 'i', 'turn', 'the', 'music', 'up', 'i', 'on', 'a', 'roll', 'this', 'time', 'and', 'heaven', 'is', 'in', 'sight', 'i', 'turn', 'the', 'music', 'up', 'i', 'got', 'my', 'records', 'on', 'from', 'underneath', 'the', 'rubble', 'sing', 'a', 'rebel', 'song', 'do', 'want', 'to', 'see', 'another', 'generation', 'drop', 'i', 'rather', 'be', 'a', 'comma', 'than', 'a', 'full', 'stop', 'maybe', 'i', 'in', 'the', 'black', 'maybe', 'i', 'on', 'my', 'knees', 'maybe', 'i', 'in', 'the', 'gap', 'between', 'the', 'two', 'trapezes', 'but', 'my', 'heart', 'is', 'beating', 'and', 'my', 'pulses', 'start', 'cathedrals', 'in', 'my', 'heart', 'as', 'we', 'saw', 'oh', 'this', 'light', 'i', 'swear', 'you', 'emerge', 'blinking', 'into', 'to', 'tell', 'me', 'it', 'alright', 'as', 'we', 'soar', 'walls', 'every', 'siren', 'is', 'a', 'symphony', 'and', 'every', 'tear', 'a', 'waterfall', 'is', 'a', 'waterfall', 'oh', 'is', 'a', 'waterfall', 'oh', 'oh', 'oh', 'is', 'a', 'is', 'a', 'waterfall', 'every', 'tear', 'is', 'a', 'waterfall', 'oh', 'oh', 'oh', 'so', 'you', 'can', 'hurt', 'hurt', 'me', 'bad', 'but', 'still', 'i', 'raise', 'the', 'flag', 'oh', 'it', 'was', 'a', 'wa', 'wa', 'wa', 'wa', 'a', 'wa', 'wa', 'wa', 'wa', 'every', 'tear', 'every', 'tear', 'every', 'teardrop', 'is', 'a', 'waterfall', 'every', 'tear', 'every', 'tear', 'every', 'teardrop', 'is', 'a', 'waterfall', 'every', 'tear', 'every', 'tear', 'every', 'teardrop', 'is', 'a', 'waterfall']\n"
     ]
    }
   ],
   "execution_count": 6
  },
  {
   "cell_type": "markdown",
   "metadata": {},
   "source": [
    "We will now remove the stop words."
   ]
  },
  {
   "cell_type": "code",
   "metadata": {
    "ExecuteTime": {
     "end_time": "2024-06-24T05:30:29.665276Z",
     "start_time": "2024-06-24T05:30:29.651978Z"
    }
   },
   "source": [
    "# TODO: remove the stop words using NLTK. Then put the result into a variable and print it\n",
    "stop_words = set(stopwords.words('english'))\n",
    "tokens_no_stop = [word for word in tokens_no_punct if word not in stop_words]\n",
    "print(\"\\nTokens without stop words:\")\n",
    "print(tokens_no_stop)"
   ],
   "outputs": [
    {
     "name": "stdout",
     "output_type": "stream",
     "text": [
      "\n",
      "Tokens without stop words:\n",
      "['turn', 'music', 'got', 'records', 'shut', 'world', 'outside', 'lights', 'come', 'maybe', 'streets', 'alight', 'maybe', 'trees', 'gone', 'feel', 'heart', 'start', 'beating', 'favourite', 'song', 'kids', 'dance', 'kids', 'night', 'monday', 'morning', 'feels', 'another', 'life', 'turn', 'music', 'roll', 'time', 'heaven', 'sight', 'turn', 'music', 'got', 'records', 'underneath', 'rubble', 'sing', 'rebel', 'song', 'want', 'see', 'another', 'generation', 'drop', 'rather', 'comma', 'full', 'stop', 'maybe', 'black', 'maybe', 'knees', 'maybe', 'gap', 'two', 'trapezes', 'heart', 'beating', 'pulses', 'start', 'cathedrals', 'heart', 'saw', 'oh', 'light', 'swear', 'emerge', 'blinking', 'tell', 'alright', 'soar', 'walls', 'every', 'siren', 'symphony', 'every', 'tear', 'waterfall', 'waterfall', 'oh', 'waterfall', 'oh', 'oh', 'oh', 'waterfall', 'every', 'tear', 'waterfall', 'oh', 'oh', 'oh', 'hurt', 'hurt', 'bad', 'still', 'raise', 'flag', 'oh', 'wa', 'wa', 'wa', 'wa', 'wa', 'wa', 'wa', 'wa', 'every', 'tear', 'every', 'tear', 'every', 'teardrop', 'waterfall', 'every', 'tear', 'every', 'tear', 'every', 'teardrop', 'waterfall', 'every', 'tear', 'every', 'tear', 'every', 'teardrop', 'waterfall']\n"
     ]
    }
   ],
   "execution_count": 7
  },
  {
   "cell_type": "markdown",
   "metadata": {},
   "source": [
    "Okay we begin to have much less words in our song, right?\n",
    "\n",
    "Next step is lemmatization. But we had an issue in the lectures, you remember? Let's learn how to do it properly now.\n",
    "\n",
    "First let's try to do it naively. Import the WordNetLemmatizer and perform lemmatization with default options."
   ]
  },
  {
   "cell_type": "code",
   "metadata": {
    "ExecuteTime": {
     "end_time": "2024-06-24T05:30:31.640750Z",
     "start_time": "2024-06-24T05:30:30.415900Z"
    }
   },
   "source": [
    "# TODO: Perform lemmatization using WordNetLemmatizer on our tokens\n",
    "lemmatizer = WordNetLemmatizer()\n",
    "lemmatized_tokens = [lemmatizer.lemmatize(word) for word in tokens_no_stop]\n",
    "print(\"\\nLemmatized tokens:\")\n",
    "print(lemmatized_tokens)"
   ],
   "outputs": [
    {
     "name": "stdout",
     "output_type": "stream",
     "text": [
      "\n",
      "Lemmatized tokens:\n",
      "['turn', 'music', 'got', 'record', 'shut', 'world', 'outside', 'light', 'come', 'maybe', 'street', 'alight', 'maybe', 'tree', 'gone', 'feel', 'heart', 'start', 'beating', 'favourite', 'song', 'kid', 'dance', 'kid', 'night', 'monday', 'morning', 'feel', 'another', 'life', 'turn', 'music', 'roll', 'time', 'heaven', 'sight', 'turn', 'music', 'got', 'record', 'underneath', 'rubble', 'sing', 'rebel', 'song', 'want', 'see', 'another', 'generation', 'drop', 'rather', 'comma', 'full', 'stop', 'maybe', 'black', 'maybe', 'knee', 'maybe', 'gap', 'two', 'trapeze', 'heart', 'beating', 'pulse', 'start', 'cathedral', 'heart', 'saw', 'oh', 'light', 'swear', 'emerge', 'blinking', 'tell', 'alright', 'soar', 'wall', 'every', 'siren', 'symphony', 'every', 'tear', 'waterfall', 'waterfall', 'oh', 'waterfall', 'oh', 'oh', 'oh', 'waterfall', 'every', 'tear', 'waterfall', 'oh', 'oh', 'oh', 'hurt', 'hurt', 'bad', 'still', 'raise', 'flag', 'oh', 'wa', 'wa', 'wa', 'wa', 'wa', 'wa', 'wa', 'wa', 'every', 'tear', 'every', 'tear', 'every', 'teardrop', 'waterfall', 'every', 'tear', 'every', 'tear', 'every', 'teardrop', 'waterfall', 'every', 'tear', 'every', 'tear', 'every', 'teardrop', 'waterfall']\n"
     ]
    }
   ],
   "execution_count": 8
  },
  {
   "cell_type": "markdown",
   "metadata": {},
   "source": [
    "As you can see, it worked well on nouns (plural words are now singular for example).\n",
    "\n",
    "But verbs are not OK: we would 'is' to become 'be' for example.\n",
    "\n",
    "To do that, we need to do POS-tagging. So let's do this now."
   ]
  },
  {
   "cell_type": "markdown",
   "metadata": {},
   "source": [
    "POS-tagging means Part of speech tagging: basically it will classify words into categories: like verbs, nouns, advers and so on...\n",
    "\n",
    "In order to do that, we will use NLTK and the function *pos_tag*. You have to do it on the step before lemmatization, so use your variable containing all the tokens without punctuation and without stop words.\n",
    "\n",
    "Hint: you can check on the internet how the *pos_tag* function works [here](https://www.nltk.org/book/ch05.html)"
   ]
  },
  {
   "cell_type": "code",
   "metadata": {
    "ExecuteTime": {
     "end_time": "2024-06-24T05:30:32.936098Z",
     "start_time": "2024-06-24T05:30:32.781112Z"
    }
   },
   "source": [
    "# TODO: use the function pos_tag of NLTK to perform POS-tagging and print the result\n",
    "pos_tags = pos_tag(tokens_no_stop)\n",
    "print(\"\\nPOS tags:\")\n",
    "print(pos_tags)"
   ],
   "outputs": [
    {
     "name": "stdout",
     "output_type": "stream",
     "text": [
      "\n",
      "POS tags:\n",
      "[('turn', 'NN'), ('music', 'NN'), ('got', 'VBD'), ('records', 'NNS'), ('shut', 'VBN'), ('world', 'NN'), ('outside', 'IN'), ('lights', 'NNS'), ('come', 'VBP'), ('maybe', 'RB'), ('streets', 'NNS'), ('alight', 'VBD'), ('maybe', 'RB'), ('trees', 'NNS'), ('gone', 'VBN'), ('feel', 'JJ'), ('heart', 'NN'), ('start', 'NN'), ('beating', 'VBG'), ('favourite', 'NN'), ('song', 'NN'), ('kids', 'NNS'), ('dance', 'NN'), ('kids', 'NNS'), ('night', 'NN'), ('monday', 'NN'), ('morning', 'NN'), ('feels', 'NNS'), ('another', 'DT'), ('life', 'NN'), ('turn', 'NN'), ('music', 'NN'), ('roll', 'NN'), ('time', 'NN'), ('heaven', 'JJ'), ('sight', 'VBD'), ('turn', 'NN'), ('music', 'NN'), ('got', 'VBD'), ('records', 'NNS'), ('underneath', 'IN'), ('rubble', 'JJ'), ('sing', 'VBG'), ('rebel', 'NN'), ('song', 'NN'), ('want', 'VBP'), ('see', 'NN'), ('another', 'DT'), ('generation', 'NN'), ('drop', 'NN'), ('rather', 'RB'), ('comma', 'JJ'), ('full', 'JJ'), ('stop', 'NN'), ('maybe', 'RB'), ('black', 'JJ'), ('maybe', 'RB'), ('knees', 'NNS'), ('maybe', 'RB'), ('gap', 'VBP'), ('two', 'CD'), ('trapezes', 'JJ'), ('heart', 'NN'), ('beating', 'NN'), ('pulses', 'NNS'), ('start', 'VBP'), ('cathedrals', 'NNS'), ('heart', 'NN'), ('saw', 'VBD'), ('oh', 'JJ'), ('light', 'JJ'), ('swear', 'JJ'), ('emerge', 'NN'), ('blinking', 'VBG'), ('tell', 'VB'), ('alright', 'JJ'), ('soar', 'NN'), ('walls', 'NNS'), ('every', 'DT'), ('siren', 'NN'), ('symphony', 'NN'), ('every', 'DT'), ('tear', 'NN'), ('waterfall', 'NN'), ('waterfall', 'NN'), ('oh', 'VBP'), ('waterfall', 'NN'), ('oh', 'UH'), ('oh', 'JJ'), ('oh', 'UH'), ('waterfall', 'NN'), ('every', 'DT'), ('tear', 'NN'), ('waterfall', 'NN'), ('oh', 'UH'), ('oh', 'JJ'), ('oh', 'JJ'), ('hurt', 'VBN'), ('hurt', 'NN'), ('bad', 'JJ'), ('still', 'RB'), ('raise', 'VB'), ('flag', 'NN'), ('oh', 'IN'), ('wa', 'JJ'), ('wa', 'NN'), ('wa', 'NN'), ('wa', 'NN'), ('wa', 'NN'), ('wa', 'NN'), ('wa', 'NN'), ('wa', 'NN'), ('every', 'DT'), ('tear', 'NN'), ('every', 'DT'), ('tear', 'NN'), ('every', 'DT'), ('teardrop', 'NN'), ('waterfall', 'NN'), ('every', 'DT'), ('tear', 'NN'), ('every', 'DT'), ('tear', 'NN'), ('every', 'DT'), ('teardrop', 'NN'), ('waterfall', 'NN'), ('every', 'DT'), ('tear', 'NN'), ('every', 'DT'), ('tear', 'NN'), ('every', 'DT'), ('teardrop', 'NN'), ('waterfall', 'NN')]\n"
     ]
    }
   ],
   "execution_count": 9
  },
  {
   "cell_type": "markdown",
   "metadata": {},
   "source": [
    "As you can see, it does not return values like 'a', 'n', 'v' or 'r' as the WordNet lemmatizer is expecting...\n",
    "\n",
    "So we have to convert the values from the NLTK POS-tagging to put them into the WordNet Lemmatizer. This is done in the function *get_wordnet_pos* written below. Try to understand it, and then we will reuse it."
   ]
  },
  {
   "cell_type": "code",
   "metadata": {
    "ExecuteTime": {
     "end_time": "2024-06-24T05:30:34.250683Z",
     "start_time": "2024-06-24T05:30:34.241690Z"
    }
   },
   "source": [
    "from nltk.corpus import wordnet\n",
    "\n",
    "def get_wordnet_pos(pos_tag):\n",
    "    output = np.asarray(pos_tag)\n",
    "    for i in range(len(pos_tag)):\n",
    "        if pos_tag[i][1].startswith('J'):\n",
    "            output[i][1] = wordnet.ADJ\n",
    "        elif pos_tag[i][1].startswith('V'):\n",
    "            output[i][1] = wordnet.VERB\n",
    "        elif pos_tag[i][1].startswith('R'):\n",
    "            output[i][1] = wordnet.ADV\n",
    "        else:\n",
    "            output[i][1] = wordnet.NOUN\n",
    "    return output"
   ],
   "outputs": [],
   "execution_count": 10
  },
  {
   "cell_type": "markdown",
   "metadata": {},
   "source": [
    "So now you have all we need to perform properly the lemmatization.\n",
    "\n",
    "So you have to use the following to do so:\n",
    "* your tags from the POS-tagging performed\n",
    "* the function *get_wordnet_pos*\n",
    "* the *WordNetLemmatizer*"
   ]
  },
  {
   "cell_type": "code",
   "metadata": {
    "scrolled": true,
    "ExecuteTime": {
     "end_time": "2024-06-24T05:30:35.941811Z",
     "start_time": "2024-06-24T05:30:35.486038Z"
    }
   },
   "source": [
    "# TODO: Perform the lemmatization properly\n",
    "lemmatized_with_pos = [(word, get_wordnet_pos(pos_tag)) for (word, pos_tag) in pos_tags]\n",
    "lemmatized_tokens = [lemmatizer.lemmatize(word, tag) for word, tag in lemmatized_with_pos]\n",
    "print(\"\\nLemmatized tokens with POS tagging:\")\n",
    "print(lemmatized_tokens)"
   ],
   "outputs": [
    {
     "ename": "IndexError",
     "evalue": "string index out of range",
     "output_type": "error",
     "traceback": [
      "\u001B[1;31m---------------------------------------------------------------------------\u001B[0m",
      "\u001B[1;31mIndexError\u001B[0m                                Traceback (most recent call last)",
      "Cell \u001B[1;32mIn[11], line 2\u001B[0m\n\u001B[0;32m      1\u001B[0m \u001B[38;5;66;03m# TODO: Perform the lemmatization properly\u001B[39;00m\n\u001B[1;32m----> 2\u001B[0m lemmatized_with_pos \u001B[38;5;241m=\u001B[39m [(word, get_wordnet_pos(pos_tag)) \u001B[38;5;28;01mfor\u001B[39;00m (word, pos_tag) \u001B[38;5;129;01min\u001B[39;00m pos_tags]\n\u001B[0;32m      3\u001B[0m lemmatized_tokens \u001B[38;5;241m=\u001B[39m [lemmatizer\u001B[38;5;241m.\u001B[39mlemmatize(word, tag) \u001B[38;5;28;01mfor\u001B[39;00m word, tag \u001B[38;5;129;01min\u001B[39;00m lemmatized_with_pos]\n\u001B[0;32m      4\u001B[0m \u001B[38;5;28mprint\u001B[39m(\u001B[38;5;124m\"\u001B[39m\u001B[38;5;130;01m\\n\u001B[39;00m\u001B[38;5;124mLemmatized tokens with POS tagging:\u001B[39m\u001B[38;5;124m\"\u001B[39m)\n",
      "Cell \u001B[1;32mIn[11], line 2\u001B[0m, in \u001B[0;36m<listcomp>\u001B[1;34m(.0)\u001B[0m\n\u001B[0;32m      1\u001B[0m \u001B[38;5;66;03m# TODO: Perform the lemmatization properly\u001B[39;00m\n\u001B[1;32m----> 2\u001B[0m lemmatized_with_pos \u001B[38;5;241m=\u001B[39m [(word, \u001B[43mget_wordnet_pos\u001B[49m\u001B[43m(\u001B[49m\u001B[43mpos_tag\u001B[49m\u001B[43m)\u001B[49m) \u001B[38;5;28;01mfor\u001B[39;00m (word, pos_tag) \u001B[38;5;129;01min\u001B[39;00m pos_tags]\n\u001B[0;32m      3\u001B[0m lemmatized_tokens \u001B[38;5;241m=\u001B[39m [lemmatizer\u001B[38;5;241m.\u001B[39mlemmatize(word, tag) \u001B[38;5;28;01mfor\u001B[39;00m word, tag \u001B[38;5;129;01min\u001B[39;00m lemmatized_with_pos]\n\u001B[0;32m      4\u001B[0m \u001B[38;5;28mprint\u001B[39m(\u001B[38;5;124m\"\u001B[39m\u001B[38;5;130;01m\\n\u001B[39;00m\u001B[38;5;124mLemmatized tokens with POS tagging:\u001B[39m\u001B[38;5;124m\"\u001B[39m)\n",
      "Cell \u001B[1;32mIn[10], line 6\u001B[0m, in \u001B[0;36mget_wordnet_pos\u001B[1;34m(pos_tag)\u001B[0m\n\u001B[0;32m      4\u001B[0m output \u001B[38;5;241m=\u001B[39m np\u001B[38;5;241m.\u001B[39masarray(pos_tag)\n\u001B[0;32m      5\u001B[0m \u001B[38;5;28;01mfor\u001B[39;00m i \u001B[38;5;129;01min\u001B[39;00m \u001B[38;5;28mrange\u001B[39m(\u001B[38;5;28mlen\u001B[39m(pos_tag)):\n\u001B[1;32m----> 6\u001B[0m     \u001B[38;5;28;01mif\u001B[39;00m \u001B[43mpos_tag\u001B[49m\u001B[43m[\u001B[49m\u001B[43mi\u001B[49m\u001B[43m]\u001B[49m\u001B[43m[\u001B[49m\u001B[38;5;241;43m1\u001B[39;49m\u001B[43m]\u001B[49m\u001B[38;5;241m.\u001B[39mstartswith(\u001B[38;5;124m'\u001B[39m\u001B[38;5;124mJ\u001B[39m\u001B[38;5;124m'\u001B[39m):\n\u001B[0;32m      7\u001B[0m         output[i][\u001B[38;5;241m1\u001B[39m] \u001B[38;5;241m=\u001B[39m wordnet\u001B[38;5;241m.\u001B[39mADJ\n\u001B[0;32m      8\u001B[0m     \u001B[38;5;28;01melif\u001B[39;00m pos_tag[i][\u001B[38;5;241m1\u001B[39m]\u001B[38;5;241m.\u001B[39mstartswith(\u001B[38;5;124m'\u001B[39m\u001B[38;5;124mV\u001B[39m\u001B[38;5;124m'\u001B[39m):\n",
      "\u001B[1;31mIndexError\u001B[0m: string index out of range"
     ]
    }
   ],
   "execution_count": 11
  },
  {
   "cell_type": "markdown",
   "metadata": {},
   "source": [
    "What do you think?\n",
    "\n",
    "Still not perfect, but it's the best we can do for now."
   ]
  },
  {
   "cell_type": "markdown",
   "metadata": {},
   "source": [
    "Now you can try stemming, with the help of the lecture, and see the differences compared to the lemmatization"
   ]
  },
  {
   "cell_type": "code",
   "metadata": {
    "ExecuteTime": {
     "end_time": "2024-06-24T05:30:40.812278Z",
     "start_time": "2024-06-24T05:30:40.791552Z"
    }
   },
   "source": [
    "# TODO: Perform stemming\n",
    "porter = PorterStemmer()\n",
    "stemmed_tokens = [porter.stem(word) for word in tokens_no_stop]\n",
    "print(\"\\nStemmed tokens:\")\n",
    "print(stemmed_tokens)"
   ],
   "outputs": [
    {
     "name": "stdout",
     "output_type": "stream",
     "text": [
      "\n",
      "Stemmed tokens:\n",
      "['turn', 'music', 'got', 'record', 'shut', 'world', 'outsid', 'light', 'come', 'mayb', 'street', 'alight', 'mayb', 'tree', 'gone', 'feel', 'heart', 'start', 'beat', 'favourit', 'song', 'kid', 'danc', 'kid', 'night', 'monday', 'morn', 'feel', 'anoth', 'life', 'turn', 'music', 'roll', 'time', 'heaven', 'sight', 'turn', 'music', 'got', 'record', 'underneath', 'rubbl', 'sing', 'rebel', 'song', 'want', 'see', 'anoth', 'gener', 'drop', 'rather', 'comma', 'full', 'stop', 'mayb', 'black', 'mayb', 'knee', 'mayb', 'gap', 'two', 'trapez', 'heart', 'beat', 'puls', 'start', 'cathedr', 'heart', 'saw', 'oh', 'light', 'swear', 'emerg', 'blink', 'tell', 'alright', 'soar', 'wall', 'everi', 'siren', 'symphoni', 'everi', 'tear', 'waterfal', 'waterfal', 'oh', 'waterfal', 'oh', 'oh', 'oh', 'waterfal', 'everi', 'tear', 'waterfal', 'oh', 'oh', 'oh', 'hurt', 'hurt', 'bad', 'still', 'rais', 'flag', 'oh', 'wa', 'wa', 'wa', 'wa', 'wa', 'wa', 'wa', 'wa', 'everi', 'tear', 'everi', 'tear', 'everi', 'teardrop', 'waterfal', 'everi', 'tear', 'everi', 'tear', 'everi', 'teardrop', 'waterfal', 'everi', 'tear', 'everi', 'tear', 'everi', 'teardrop', 'waterfal']\n"
     ]
    }
   ],
   "execution_count": 12
  },
  {
   "cell_type": "markdown",
   "metadata": {},
   "source": [
    "Do you see the difference? What would you use?"
   ]
  }
 ],
 "metadata": {
  "kernelspec": {
   "display_name": "Python 3",
   "language": "python",
   "name": "python3"
  },
  "language_info": {
   "codemirror_mode": {
    "name": "ipython",
    "version": 3
   },
   "file_extension": ".py",
   "mimetype": "text/x-python",
   "name": "python",
   "nbconvert_exporter": "python",
   "pygments_lexer": "ipython3",
   "version": "3.10.2 (tags/v3.10.2:a58ebcc, Jan 17 2022, 14:12:15) [MSC v.1929 64 bit (AMD64)]"
  },
  "toc": {
   "base_numbering": 1,
   "nav_menu": {},
   "number_sections": true,
   "sideBar": true,
   "skip_h1_title": false,
   "title_cell": "Table of Contents",
   "title_sidebar": "Contents",
   "toc_cell": false,
   "toc_position": {},
   "toc_section_display": true,
   "toc_window_display": false
  },
  "vscode": {
   "interpreter": {
    "hash": "e13f56ca7dc4f574cb8c974a7b4bbe558c017ba4c5a83757e058a9f98049b048"
   }
  }
 },
 "nbformat": 4,
 "nbformat_minor": 2
}
