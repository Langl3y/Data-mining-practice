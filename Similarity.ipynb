{
 "cells": [
  {
   "cell_type": "markdown",
   "metadata": {},
   "source": [
    "# Similarity"
   ]
  },
  {
   "cell_type": "markdown",
   "metadata": {},
   "source": [
    "We will work on applying similarity: Jaccard and Cosine similarity. This exercise is a simple application of the lecture."
   ]
  },
  {
   "cell_type": "markdown",
   "metadata": {},
   "source": [
    "Begin by importing the needed libraries:"
   ]
  },
  {
   "cell_type": "code",
   "metadata": {
    "ExecuteTime": {
     "end_time": "2024-06-24T05:40:12.218101Z",
     "start_time": "2024-06-24T05:40:12.212101Z"
    }
   },
   "source": [
    "# import necessary modules\n",
    "import nltk\n",
    "import numpy as np\n",
    "import pandas as pd\n",
    "from sklearn.feature_extraction.text import TfidfVectorizer\n",
    "from sklearn.metrics.pairwise import cosine_similarity"
   ],
   "outputs": [],
   "execution_count": 2
  },
  {
   "cell_type": "markdown",
   "metadata": {},
   "source": [
    "We will work with the following examples:"
   ]
  },
  {
   "cell_type": "code",
   "metadata": {
    "ExecuteTime": {
     "end_time": "2024-06-24T05:40:13.496514Z",
     "start_time": "2024-06-24T05:40:13.481658Z"
    }
   },
   "source": [
    "A = \"Outside the classroom, Stallman pursued his studies with even more diligence, rushing off to fulfill his laboratory-assistant duties at Rockefeller University during the week and dodging the Vietnam protesters on his way to Saturday school at Columbia. It was there, while the rest of the Science Honors Program students sat around discussing their college choices, that Stallman finally took a moment to participate in the preclass bull session.\"\n",
    "B = \"To facilitate the process, AI Lab hackers had built a system that displayed both the source and display modes on a split screen. Despite this innovative hack, switching from mode to mode was still a nuisance.\"\n",
    "C = \"With no dorm and no dancing, Stallman's social universe imploded. Like an astronaut experiencing the aftereffects of zero-gravity, Stallman found that his ability to interact with nonhackers, especially female nonhackers, had atrophied significantly. After 16 weeks in the AI Lab, the self confidence he'd been quietly accumulating during his 4 years at Harvard was virtually gone.\""
   ],
   "outputs": [],
   "execution_count": 3
  },
  {
   "cell_type": "markdown",
   "metadata": {},
   "source": [
    "Begin by computing the Jaccard Similarity J of all possibilities:\n",
    "* J(A, B)\n",
    "* J(B, C)\n",
    "* J(A, C)"
   ]
  },
  {
   "cell_type": "code",
   "metadata": {
    "ExecuteTime": {
     "end_time": "2024-06-24T05:40:14.413466Z",
     "start_time": "2024-06-24T05:40:14.395430Z"
    }
   },
   "source": [
    "# TODO: compute the Jaccard similarities\n",
    "\n",
    "# Function to preprocess text\n",
    "def preprocess(text):\n",
    "    tokens = nltk.word_tokenize(text.lower())\n",
    "    return set(tokens)\n",
    "\n",
    "# Preprocess sentences A, B, and C\n",
    "tokens_A = preprocess(A)\n",
    "tokens_B = preprocess(B)\n",
    "tokens_C = preprocess(C)\n",
    "\n",
    "# Function to compute Jaccard similarity\n",
    "def compute_jaccard_similarity(tokens1, tokens2):\n",
    "    intersection = tokens1.intersection(tokens2)\n",
    "    union = tokens1.union(tokens2)\n",
    "    return len(intersection) / len(union)\n",
    "\n",
    "# Compute Jaccard similarities\n",
    "jac_sim_AB = compute_jaccard_similarity(tokens_A, tokens_B)\n",
    "jac_sim_AC = compute_jaccard_similarity(tokens_A, tokens_C)\n",
    "jac_sim_BC = compute_jaccard_similarity(tokens_B, tokens_C)\n",
    "\n",
    "print(f\"Jaccard similarity between A and B: {jac_sim_AB:.2f}\")\n",
    "print(f\"Jaccard similarity between A and C: {jac_sim_AC:.2f}\")\n",
    "print(f\"Jaccard similarity between B and C: {jac_sim_BC:.2f}\")\n"
   ],
   "outputs": [
    {
     "name": "stdout",
     "output_type": "stream",
     "text": [
      "Jaccard similarity between A and B: 0.11\n",
      "Jaccard similarity between A and C: 0.14\n",
      "Jaccard similarity between B and C: 0.13\n"
     ]
    }
   ],
   "execution_count": 4
  },
  {
   "cell_type": "markdown",
   "metadata": {},
   "source": [
    "What are the closest to the other according to Jaccard Similarity?\n",
    "\n",
    "Now let's do the same using TF-IDF and Cosine Similarity. Compute the TF-IDF and cosine similarities and print them."
   ]
  },
  {
   "cell_type": "code",
   "metadata": {
    "scrolled": true,
    "ExecuteTime": {
     "end_time": "2024-06-24T05:40:15.221833Z",
     "start_time": "2024-06-24T05:40:15.194717Z"
    }
   },
   "source": [
    "# TODO: compute the TF-IDF of A, B and C and the cosine similarities of all possibilities\n",
    "\n",
    "# Combine sentences into a list\n",
    "sentences = [A, B, C]\n",
    "\n",
    "# Initialize TF-IDF vectorizer\n",
    "tfidf_vectorizer = TfidfVectorizer()\n",
    "\n",
    "# Fit-transform the sentences\n",
    "tfidf_matrix = tfidf_vectorizer.fit_transform(sentences)\n",
    "\n",
    "# Compute cosine similarities\n",
    "cos_sim_AB = cosine_similarity(tfidf_matrix[0], tfidf_matrix[1]).flatten()[0]\n",
    "cos_sim_AC = cosine_similarity(tfidf_matrix[0], tfidf_matrix[2]).flatten()[0]\n",
    "cos_sim_BC = cosine_similarity(tfidf_matrix[1], tfidf_matrix[2]).flatten()[0]\n",
    "\n",
    "print(f\"Cosine similarity between A and B: {cos_sim_AB:.2f}\")\n",
    "print(f\"Cosine similarity between A and C: {cos_sim_AC:.2f}\")\n",
    "print(f\"Cosine similarity between B and C: {cos_sim_BC:.2f}\")"
   ],
   "outputs": [
    {
     "name": "stdout",
     "output_type": "stream",
     "text": [
      "Cosine similarity between A and B: 0.17\n",
      "Cosine similarity between A and C: 0.29\n",
      "Cosine similarity between B and C: 0.14\n"
     ]
    }
   ],
   "execution_count": 5
  },
  {
   "cell_type": "markdown",
   "metadata": {},
   "source": [
    "Is it consistent with the Jaccard values?"
   ]
  }
 ],
 "metadata": {
  "kernelspec": {
   "display_name": "Python 3 (ipykernel)",
   "language": "python",
   "name": "python3"
  },
  "language_info": {
   "codemirror_mode": {
    "name": "ipython",
    "version": 3
   },
   "file_extension": ".py",
   "mimetype": "text/x-python",
   "name": "python",
   "nbconvert_exporter": "python",
   "pygments_lexer": "ipython3",
   "version": "3.9.7"
  },
  "toc": {
   "base_numbering": 1,
   "nav_menu": {},
   "number_sections": true,
   "sideBar": true,
   "skip_h1_title": false,
   "title_cell": "Table of Contents",
   "title_sidebar": "Contents",
   "toc_cell": false,
   "toc_position": {},
   "toc_section_display": true,
   "toc_window_display": false
  }
 },
 "nbformat": 4,
 "nbformat_minor": 2
}
